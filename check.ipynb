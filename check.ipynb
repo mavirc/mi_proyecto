{
 "cells": [
  {
   "cell_type": "code",
   "execution_count": 1,
   "metadata": {},
   "outputs": [
    {
     "name": "stdout",
     "output_type": "stream",
     "text": [
      "Total de ventas por producto a lo largo de la semana:\n",
      "[1519 1821 1662 1754 1605 1533 2112 1357 1673 1701]\n",
      "\n",
      "Total de ventas por tienda a lo largo de la semana:\n",
      "[3323 3176 3356 3340 3542]\n",
      "\n",
      "Promedio de ventas por producto por día:\n",
      "[43.4        52.02857143 47.48571429 50.11428571 45.85714286 43.8\n",
      " 60.34285714 38.77142857 47.8        48.6       ]\n",
      "\n",
      "Promedio de ventas por tienda por día:\n",
      "[47.47142857 45.37142857 47.94285714 47.71428571 50.6       ]\n",
      "\n",
      "Producto con mayor ventas totales en la semana: Producto 7\n",
      "Producto con menor ventas totales en la semana: Producto 8\n",
      "\n",
      "Tienda con mayor ventas totales en la semana: Tienda 5\n",
      "Tienda con menor ventas totales en la semana: Tienda 2\n"
     ]
    }
   ],
   "source": [
    "import numpy as np\n",
    "\n",
    "# Generación de datos de ventas aleatorios\n",
    "productos = 10  # 10 productos\n",
    "tiendas = 5     # 5 tiendas\n",
    "dias = 7        # 7 días (una semana)\n",
    "\n",
    "# Generamos los datos de ventas aleatorias (valores entre 0 y 100)\n",
    "ventas = np.random.randint(0, 101, (productos, tiendas, dias))\n",
    "\n",
    "# 1. Total de ventas por producto a lo largo de la semana\n",
    "ventas_por_producto = np.sum(ventas, axis=(1, 2))\n",
    "print(\"Total de ventas por producto a lo largo de la semana:\")\n",
    "print(ventas_por_producto)\n",
    "\n",
    "# 2. Total de ventas por tienda a lo largo de la semana\n",
    "ventas_por_tienda = np.sum(ventas, axis=(0, 2))\n",
    "print(\"\\nTotal de ventas por tienda a lo largo de la semana:\")\n",
    "print(ventas_por_tienda)\n",
    "\n",
    "# 3. Promedio de ventas por producto por día\n",
    "promedio_por_producto_dia = np.mean(ventas, axis=(1, 2))\n",
    "print(\"\\nPromedio de ventas por producto por día:\")\n",
    "print(promedio_por_producto_dia)\n",
    "\n",
    "# 4. Promedio de ventas por tienda por día\n",
    "promedio_por_tienda_dia = np.mean(ventas, axis=(0, 2))\n",
    "print(\"\\nPromedio de ventas por tienda por día:\")\n",
    "print(promedio_por_tienda_dia)\n",
    "\n",
    "# 5. Producto con mayor y menor ventas totales en la semana\n",
    "producto_mayor_ventas = np.argmax(ventas_por_producto)\n",
    "producto_menor_ventas = np.argmin(ventas_por_producto)\n",
    "print(f\"\\nProducto con mayor ventas totales en la semana: Producto {producto_mayor_ventas + 1}\")\n",
    "print(f\"Producto con menor ventas totales en la semana: Producto {producto_menor_ventas + 1}\")\n",
    "\n",
    "# 6. Tienda con mayor y menor ventas totales en la semana\n",
    "tienda_mayor_ventas = np.argmax(ventas_por_tienda)\n",
    "tienda_menor_ventas = np.argmin(ventas_por_tienda)\n",
    "print(f\"\\nTienda con mayor ventas totales en la semana: Tienda {tienda_mayor_ventas + 1}\")\n",
    "print(f\"Tienda con menor ventas totales en la semana: Tienda {tienda_menor_ventas + 1}\")\n"
   ]
  }
 ],
 "metadata": {
  "kernelspec": {
   "display_name": "mi_proyecto",
   "language": "python",
   "name": "python3"
  },
  "language_info": {
   "codemirror_mode": {
    "name": "ipython",
    "version": 3
   },
   "file_extension": ".py",
   "mimetype": "text/x-python",
   "name": "python",
   "nbconvert_exporter": "python",
   "pygments_lexer": "ipython3",
   "version": "3.12.6"
  }
 },
 "nbformat": 4,
 "nbformat_minor": 2
}
