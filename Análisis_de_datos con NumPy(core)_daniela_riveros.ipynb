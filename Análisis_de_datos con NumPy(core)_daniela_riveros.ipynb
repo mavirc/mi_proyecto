{
 "cells": [
  {
   "cell_type": "code",
   "execution_count": 19,
   "metadata": {},
   "outputs": [],
   "source": [
    "import numpy as np"
   ]
  },
  {
   "cell_type": "code",
   "execution_count": 20,
   "metadata": {},
   "outputs": [],
   "source": [
    "def generar_datos_ventas(productos, tiendas, dias):\n",
    "    # Genera datos de ventas aleatorias para el número de productos, tiendas y días especificados\n",
    "    return np.random.randint(0, 101, (productos, tiendas, dias))\n"
   ]
  },
  {
   "cell_type": "code",
   "execution_count": 21,
   "metadata": {},
   "outputs": [],
   "source": [
    "def calcular_totales_ventas_por_producto(datos):\n",
    "    # Calcula el total de ventas por producto a lo largo de la semana\n",
    "    return np.sum(datos, axis=(1, 2))\n",
    "    "
   ]
  },
  {
   "cell_type": "code",
   "execution_count": 22,
   "metadata": {},
   "outputs": [],
   "source": [
    "def calcular_totales_ventas_por_tienda(datos):\n",
    "    # Calcula el total de ventas por tienda a lo largo de la semana\n",
    "    return np.sum(datos, axis=(0, 2))\n",
    "    "
   ]
  },
  {
   "cell_type": "code",
   "execution_count": 23,
   "metadata": {},
   "outputs": [],
   "source": [
    "def calcular_promedio_ventas_por_producto(datos):\n",
    "    # Calcula el promedio de ventas por producto por día\n",
    "    return np.mean(datos, axis=(1, 2))"
   ]
  },
  {
   "cell_type": "code",
   "execution_count": 24,
   "metadata": {},
   "outputs": [],
   "source": [
    "def calcular_promedio_ventas_por_tienda(datos):\n",
    "    # Calcula el promedio de ventas por tienda por día\n",
    "    return np.mean(datos, axis=(0, 2))\n",
    "\n"
   ]
  },
  {
   "cell_type": "code",
   "execution_count": 25,
   "metadata": {},
   "outputs": [],
   "source": [
    "def encontrar_producto_mayor_menor_ventas(totales_por_producto):\n",
    "    # Encuentra el producto con mayor y menor ventas totales en la semana\n",
    "    producto_mayor_ventas = np.argmax(totales_por_producto)\n",
    "    producto_menor_ventas = np.argmin(totales_por_producto)\n",
    "    return producto_mayor_ventas, producto_menor_ventas\n",
    "\n"
   ]
  },
  {
   "cell_type": "code",
   "execution_count": 26,
   "metadata": {},
   "outputs": [],
   "source": [
    "def encontrar_tienda_mayor_menor_ventas(totales_por_tienda):\n",
    "    # Encuentra la tienda con mayor y menor ventas totales en la semana\n",
    "    tienda_mayor_ventas = np.argmax(totales_por_tienda)\n",
    "    tienda_menor_ventas = np.argmin(totales_por_tienda)\n",
    "    return tienda_mayor_ventas, tienda_menor_ventas"
   ]
  },
  {
   "cell_type": "code",
   "execution_count": 27,
   "metadata": {},
   "outputs": [
    {
     "name": "stdout",
     "output_type": "stream",
     "text": [
      "Total de ventas por producto a lo largo de la semana: [1942 1600 1701 1682 1870 1562 1750 2030 1658 1516]\n",
      "Total de ventas por tienda a lo largo de la semana: [3481 3608 3442 3205 3575]\n",
      "Promedio de ventas por producto por día: [55.48571429 45.71428571 48.6        48.05714286 53.42857143 44.62857143\n",
      " 50.         58.         47.37142857 43.31428571]\n",
      "Promedio de ventas por tienda por día: [49.72857143 51.54285714 49.17142857 45.78571429 51.07142857]\n",
      "Producto con mayor ventas: Producto 7\n",
      "Producto con menor ventas: Producto 9\n",
      "Tienda con mayor ventas: Tienda 1\n",
      "Tienda con menor ventas: Tienda 3\n"
     ]
    }
   ],
   "source": [
    "productos = 10\n",
    "tiendas = 5\n",
    "dias = 7\n",
    "\n",
    "# Genera los datos de ventas\n",
    "datos = generar_datos_ventas(productos, tiendas, dias)\n",
    "\n",
    "# Calcula los totales y promedios\n",
    "totales_por_producto = calcular_totales_ventas_por_producto(datos)\n",
    "totales_por_tienda = calcular_totales_ventas_por_tienda(datos)\n",
    "promedio_por_producto = calcular_promedio_ventas_por_producto(datos)\n",
    "promedio_por_tienda = calcular_promedio_ventas_por_tienda(datos)\n",
    "\n",
    "# Encuentra el producto y la tienda con mayor y menor ventas\n",
    "producto_mayor_ventas, producto_menor_ventas = encontrar_producto_mayor_menor_ventas(totales_por_producto)\n",
    "tienda_mayor_ventas, tienda_menor_ventas = encontrar_tienda_mayor_menor_ventas(totales_por_tienda)\n",
    "\n",
    "# Imprime los resultados\n",
    "print(\"Total de ventas por producto a lo largo de la semana:\", totales_por_producto)\n",
    "print(\"Total de ventas por tienda a lo largo de la semana:\", totales_por_tienda)\n",
    "print(\"Promedio de ventas por producto por día:\", promedio_por_producto)\n",
    "print(\"Promedio de ventas por tienda por día:\", promedio_por_tienda)\n",
    "print(f\"Producto con mayor ventas: Producto {producto_mayor_ventas}\")\n",
    "print(f\"Producto con menor ventas: Producto {producto_menor_ventas}\")\n",
    "print(f\"Tienda con mayor ventas: Tienda {tienda_mayor_ventas}\")\n",
    "print(f\"Tienda con menor ventas: Tienda {tienda_menor_ventas}\")\n",
    "\n"
   ]
  }
 ],
 "metadata": {
  "kernelspec": {
   "display_name": "mi_proyecto",
   "language": "python",
   "name": "python3"
  },
  "language_info": {
   "codemirror_mode": {
    "name": "ipython",
    "version": 3
   },
   "file_extension": ".py",
   "mimetype": "text/x-python",
   "name": "python",
   "nbconvert_exporter": "python",
   "pygments_lexer": "ipython3",
   "version": "3.12.6"
  }
 },
 "nbformat": 4,
 "nbformat_minor": 2
}
