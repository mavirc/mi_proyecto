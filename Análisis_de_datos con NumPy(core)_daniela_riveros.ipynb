{
 "cells": [
  {
   "cell_type": "code",
   "execution_count": 39,
   "metadata": {},
   "outputs": [],
   "source": [
    "import numpy as np"
   ]
  },
  {
   "cell_type": "markdown",
   "metadata": {},
   "source": [
    "Definimos la funcion que genera los datos. Pongo los argumentos productos,tiendas y dias en formato input para probar el codigo con distintos casos."
   ]
  },
  {
   "cell_type": "code",
   "execution_count": 67,
   "metadata": {},
   "outputs": [
    {
     "data": {
      "text/plain": [
       "<function __main__.generar_datos_ventas(productos=10, tiendas=5, dias=7)>"
      ]
     },
     "execution_count": 67,
     "metadata": {},
     "output_type": "execute_result"
    }
   ],
   "source": [
    "def generar_datos_ventas(productos=10, tiendas=5, dias=7):\n",
    "#def generar_datos_ventas(productos, tiendas, dias):\n",
    "    # Genera datos de ventas aleatorias para el número de productos, tiendas y días especificados\n",
    "    datos = np.random.randint(0, 101, (productos, tiendas, dias))\n",
    "    return datos\n",
    "    print(datos.shape)\n",
    "\n",
    "generar_datos_ventas\n"
   ]
  },
  {
   "cell_type": "code",
   "execution_count": 50,
   "metadata": {},
   "outputs": [],
   "source": [
    "def calcular_totales_ventas_por_producto(datos):\n",
    "    # Calcula el total de ventas por producto a lo largo de la semana\n",
    "    return np.sum(datos, axis=(1, 2))\n",
    "    "
   ]
  },
  {
   "cell_type": "code",
   "execution_count": 51,
   "metadata": {},
   "outputs": [],
   "source": [
    "def calcular_totales_ventas_por_tienda(datos):\n",
    "    # Calcula el total de ventas por tienda a lo largo de la semana\n",
    "    #return np.sum(datos, axis=(0, 2))\n",
    "    totales_por_tienda = np.sum(datos, axis=(0, 2))"
   ]
  },
  {
   "cell_type": "code",
   "execution_count": 54,
   "metadata": {},
   "outputs": [],
   "source": [
    "def calcular_promedio_ventas_por_producto(datos):\n",
    "    # Calcula el promedio de ventas por producto por día\n",
    "    #return np.mean(datos, axis=(1, 2))\n",
    "    promedio_por_producto = np.mean(datos, axis=(1, 2))"
   ]
  },
  {
   "cell_type": "code",
   "execution_count": 44,
   "metadata": {},
   "outputs": [],
   "source": [
    "def calcular_promedio_ventas_por_tienda(datos):\n",
    "    # Calcula el promedio de ventas por tienda por día\n",
    "    return np.mean(datos, axis=(0, 2))\n",
    "\n"
   ]
  },
  {
   "cell_type": "code",
   "execution_count": 45,
   "metadata": {},
   "outputs": [],
   "source": [
    "def encontrar_producto_mayor_menor_ventas(totales_por_producto):\n",
    "    # Encuentra el producto con mayor y menor ventas totales en la semana\n",
    "    producto_mayor_ventas = np.argmax(totales_por_producto)\n",
    "    producto_menor_ventas = np.argmin(totales_por_producto)\n",
    "    return producto_mayor_ventas, producto_menor_ventas\n",
    "\n"
   ]
  },
  {
   "cell_type": "code",
   "execution_count": 46,
   "metadata": {},
   "outputs": [],
   "source": [
    "def encontrar_tienda_mayor_menor_ventas(totales_por_tienda):\n",
    "    # Encuentra la tienda con mayor y menor ventas totales en la semana\n",
    "    tienda_mayor_ventas = np.argmax(totales_por_tienda)\n",
    "    tienda_menor_ventas = np.argmin(totales_por_tienda)\n",
    "    return tienda_mayor_ventas, tienda_menor_ventas"
   ]
  },
  {
   "cell_type": "code",
   "execution_count": 47,
   "metadata": {},
   "outputs": [],
   "source": [
    "\n",
    "\n",
    "def imprimir_resumen(datos):\n",
    "\n",
    "    productos = int(input('Numero de productos: '))\n",
    "    tiendas = int(input('Numero de tiendas: '))\n",
    "    dias = int(input('Cantidad de dias: '))\n",
    "\n",
    "    # Calcula los totales y promedios\n",
    "    \n",
    "    totales_por_tienda = calcular_totales_ventas_por_tienda(datos)\n",
    "    promedio_por_producto = calcular_promedio_ventas_por_producto(datos)\n",
    "    promedio_por_tienda = calcular_promedio_ventas_por_tienda(datos)\n",
    "\n",
    "    # Encuentra el producto y la tienda con mayor y menor ventas\n",
    "    producto_mayor_ventas, producto_menor_ventas = encontrar_producto_mayor_menor_ventas(totales_por_producto)\n",
    "    tienda_mayor_ventas, tienda_menor_ventas = encontrar_tienda_mayor_menor_ventas(totales_por_tienda)\n",
    "\n",
    "    # Imprime los resultados\n",
    "    print(\"Total de ventas por producto a lo largo de la semana:\", totales_por_producto)\n",
    "    print(\"Total de ventas por tienda a lo largo de la semana:\", totales_por_tienda)\n",
    "    print(\"Promedio de ventas por producto por día:\", promedio_por_producto)\n",
    "    print(\"Promedio de ventas por tienda por día:\", promedio_por_tienda)\n",
    "    print(f\"Producto con mayor ventas: Producto {producto_mayor_ventas}\")\n",
    "    print(f\"Producto con menor ventas: Producto {producto_menor_ventas}\")\n",
    "    print(f\"Tienda con mayor ventas: Tienda {tienda_mayor_ventas}\")\n",
    "    print(f\"Tienda con menor ventas: Tienda {tienda_menor_ventas}\")"
   ]
  }
 ],
 "metadata": {
  "kernelspec": {
   "display_name": "mi_proyecto",
   "language": "python",
   "name": "python3"
  },
  "language_info": {
   "codemirror_mode": {
    "name": "ipython",
    "version": 3
   },
   "file_extension": ".py",
   "mimetype": "text/x-python",
   "name": "python",
   "nbconvert_exporter": "python",
   "pygments_lexer": "ipython3",
   "version": "3.12.6"
  }
 },
 "nbformat": 4,
 "nbformat_minor": 2
}
