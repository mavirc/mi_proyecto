{
 "cells": [
  {
   "cell_type": "markdown",
   "metadata": {},
   "source": [
    "Manejo de cadenas\n",
    "\n",
    "#Ejercicio 1: Saludo Personalizado\n",
    "\n",
    "Crea un programa que pida al usuario su nombre y edad, y luego imprima un saludo personalizado.\n",
    "Usa input para capturar el nombre y la edad.\n",
    "Usa print para mostrar el saludo.\n"
   ]
  },
  {
   "cell_type": "code",
   "execution_count": 4,
   "metadata": {},
   "outputs": [],
   "source": [
    "def datos_de_usuario():\n",
    "    nombre = input(\"Cual es tu nombre?\") #pide el nombre\n",
    "    edad = int(input(\"Cuantos años tienes?\")) #pide la edad\n",
    "    #return nombre, edad\n",
    "    print(f'Hola {nombre}!, tienes {edad}!') #imprime el saludo"
   ]
  },
  {
   "cell_type": "code",
   "execution_count": 5,
   "metadata": {},
   "outputs": [
    {
     "name": "stdout",
     "output_type": "stream",
     "text": [
      "Hola Mavi!, tienes 26!\n"
     ]
    }
   ],
   "source": [
    "datos_de_usuario()"
   ]
  },
  {
   "cell_type": "markdown",
   "metadata": {},
   "source": [
    "#Ejercicio 2: Manipulación de Cadenas\n",
    "\n",
    "Crea una cadena con tu nombre completo.\n",
    "Usa los métodos de cadenas para:\n",
    "Convertir el nombre a mayúsculas y minúsculas.\n",
    "Contar el número de letras en tu nombre.\n",
    "Reemplazar tu primer nombre por otro nombre.\n"
   ]
  },
  {
   "cell_type": "code",
   "execution_count": 16,
   "metadata": {},
   "outputs": [
    {
     "name": "stdout",
     "output_type": "stream",
     "text": [
      "DANIELA MARIA VICTORIA RIVEROS CANO\n",
      "daniela maria victoria riveros cano\n",
      "35\n",
      "Alejandra Maria Victoria Riveros Cano\n"
     ]
    }
   ],
   "source": [
    "nombre_completo = (f'Daniela Maria Victoria Riveros Cano')\n",
    "print (nombre_completo.upper()) # cambiar todas las letras a mayuscula\n",
    "print (nombre_completo.lower()) # cambiar todas las letras a minuscula\n",
    "print(len(nombre_completo)) # logitud de la cadena\n",
    "replace_name = nombre_completo.replace('Daniela', 'Alejandra') # remplazar el primer nombre Daniela por Alejandra\n",
    "print(replace_name)\n"
   ]
  },
  {
   "cell_type": "markdown",
   "metadata": {},
   "source": [
    "#Ejercicio 3: Lista de Nombres\n",
    "\n",
    "Pide al usuario que ingrese una lista de nombres separados por comas.\n",
    "Usa split para convertir esta cadena en una lista de nombres.\n",
    "Imprime cada nombre en una línea separada.\n",
    "\n",
    "\n",
    "Guarda el notebook en tu Google Drive y comparte el enlace con el instructor a través de la plataforma de la clase."
   ]
  },
  {
   "cell_type": "code",
   "execution_count": 32,
   "metadata": {},
   "outputs": [
    {
     "name": "stdout",
     "output_type": "stream",
     "text": [
      "Ana\n",
      "Maria\n",
      "Victoria\n",
      "Juan\n"
     ]
    }
   ],
   "source": [
    "nombres = input(f'Introduce nombre separadados por comas') #introducir nombres separados por comas\n",
    "\n",
    "lista_de_nombres = nombres.split(',') #split en lista\n",
    "for i in lista_de_nombres: # ciclo para imprimir\n",
    "    print(i.strip()) #imprime los nomnre en la lista y elimina espacions incesarios. \n",
    "\n",
    "\n"
   ]
  }
 ],
 "metadata": {
  "kernelspec": {
   "display_name": "mi_proyecto",
   "language": "python",
   "name": "python3"
  },
  "language_info": {
   "codemirror_mode": {
    "name": "ipython",
    "version": 3
   },
   "file_extension": ".py",
   "mimetype": "text/x-python",
   "name": "python",
   "nbconvert_exporter": "python",
   "pygments_lexer": "ipython3",
   "version": "3.12.6"
  }
 },
 "nbformat": 4,
 "nbformat_minor": 2
}
