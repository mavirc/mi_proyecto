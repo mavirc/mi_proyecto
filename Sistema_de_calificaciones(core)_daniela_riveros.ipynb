{
 "cells": [
  {
   "cell_type": "markdown",
   "metadata": {},
   "source": [
    "Sistema de Calificaciones (Core)\n",
    "Objetivo:\n",
    "\n",
    "Evaluar las capacidades de los estudiantes en el uso de operaciones matemáticas básicas, booleanos y condicionales en Python, así como su capacidad para analizar problemas, comprender requerimientos y desarrollar lógica de programación."
   ]
  },
  {
   "cell_type": "markdown",
   "metadata": {},
   "source": [
    "### Optenemos el numero de estudiantes y manejamos posible errores por valores no aptos."
   ]
  },
  {
   "cell_type": "code",
   "execution_count": 1,
   "metadata": {},
   "outputs": [],
   "source": [
    "def numero_de_estudiantes():\n",
    "    # Optener el numero de estudiantes y manejar el error en caso de valores no validos\n",
    "    while True:\n",
    "        try:\n",
    "            numero_de_estudiantes = int(input(\"Ingrese el número de estudiantes: \"))\n",
    "            if numero_de_estudiantes > 0:\n",
    "                return numero_de_estudiantes\n",
    "            else:\n",
    "                print(\"El número de estudiantes debe ser mayor que 0.\")\n",
    "        except ValueError:\n",
    "            print(\"Por favor, ingrese un número entero válido.\")"
   ]
  },
  {
   "cell_type": "markdown",
   "metadata": {},
   "source": [
    "### Optenemos el nombre de los estudiantes y manjeamos posibles errores"
   ]
  },
  {
   "cell_type": "code",
   "execution_count": 2,
   "metadata": {},
   "outputs": [],
   "source": [
    "def obtener_nombre_estudiante():\n",
    "    # Obtener el nombre de los estudiantes\n",
    "    nombre = input(\"Ingrese el nombre del estudiante: \")\n",
    "    return nombre.strip()"
   ]
  },
  {
   "cell_type": "markdown",
   "metadata": {},
   "source": [
    "### Optenemos el numero de las asignaturas"
   ]
  },
  {
   "cell_type": "code",
   "execution_count": 3,
   "metadata": {},
   "outputs": [],
   "source": [
    "def obtener_numero_asignaturas():\n",
    "    # Optener el numero de asignaturas y manejar error en caso de valores no validos\n",
    "    while True:\n",
    "        try:\n",
    "            numero_de_asignaturas = int(input(\"Ingrese el número de asignaturas: \"))\n",
    "            if numero_de_asignaturas > 0:\n",
    "                return numero_de_asignaturas\n",
    "            else:\n",
    "                print(\"El número de asignaturas debe ser mayor que 0.\") # error por numero invalido\n",
    "        except ValueError:\n",
    "            print(\"Por favor, ingrese un número entero válido.\") # error por caracter invalido"
   ]
  },
  {
   "cell_type": "markdown",
   "metadata": {},
   "source": [
    "### Optenemos los nombres de las asignaturas"
   ]
  },
  {
   "cell_type": "code",
   "execution_count": 4,
   "metadata": {},
   "outputs": [],
   "source": [
    "def obtener_nombres_asignaturas(numero_de_asignaturas):\n",
    "    # Optener el nombre de las signaturas y guardar los valores en una lista vacia\n",
    "    asignaturas = [] \n",
    "    for i in range(numero_de_asignaturas):\n",
    "        nombre_de_asignatura = input(f\"Ingrese el nombre de la asignatura {i + 1}: \")\n",
    "        asignaturas.append(nombre_de_asignatura.strip()) #guardamos los nomber de las asignaturas ei: [Matematica, Musica, Historia]\n",
    "    return asignaturas #Ya tengo mi lisa con las aginaturas"
   ]
  },
  {
   "cell_type": "markdown",
   "metadata": {},
   "source": [
    "#### Obtenemos las calificaciones por asignatura"
   ]
  },
  {
   "cell_type": "code",
   "execution_count": 5,
   "metadata": {},
   "outputs": [],
   "source": [
    "def obtener_calificaciones(asignaturas):\n",
    "    # Obtener las notas de las asignaturas y manejar el error para valores fuera del rango de 0 a 10\n",
    "    calificaciones = {} #guardar los valores en un diccionario para poder asignar valores y lisa de valores a unas llaves\n",
    "    for asignatura in asignaturas:\n",
    "        while True:\n",
    "            try:\n",
    "                calificacion = float(input(f\"Ingrese la calificación para {asignatura} (0 a 10): \"))\n",
    "                if 0 <= calificacion <= 10:\n",
    "                    calificaciones[asignatura] = calificacion\n",
    "                    break\n",
    "                else:\n",
    "                    print(\"La calificación debe estar entre 0 y 10.\")\n",
    "            except ValueError:\n",
    "                print(\"Por favor, ingrese un numero del 1 al 10.\")\n",
    "    return calificaciones #ya tengo el diccionario con las calificaciones por asignatura"
   ]
  },
  {
   "cell_type": "markdown",
   "metadata": {},
   "source": [
    "### Calculamos el promedio"
   ]
  },
  {
   "cell_type": "code",
   "execution_count": 6,
   "metadata": {},
   "outputs": [],
   "source": [
    "def calcular_promedio(calificaciones):\n",
    "    # Calcula el promedio de las calificaciones\n",
    "    promedio = sum(calificaciones.values()) / len(calificaciones)\n",
    "    return promedio"
   ]
  },
  {
   "cell_type": "markdown",
   "metadata": {},
   "source": [
    "### Clasificamos entre Aprobado y Reprobado"
   ]
  },
  {
   "cell_type": "code",
   "execution_count": 7,
   "metadata": {},
   "outputs": [],
   "source": [
    "def determinar_estado(promedio):\n",
    "    # Verificar si el estudiante aprobo o reprobo\n",
    "    return \"Aprobado\" if promedio >= 6.0 else \"Reprobado\""
   ]
  },
  {
   "cell_type": "markdown",
   "metadata": {},
   "source": [
    "### Estructura del resumen por estudiante"
   ]
  },
  {
   "cell_type": "code",
   "execution_count": 8,
   "metadata": {},
   "outputs": [],
   "source": [
    "def resumen_por_estudiante(estudiantes):\n",
    "    # Imprimir el resuem por estudiante, notas, promedio y si aprobo o reprobo\n",
    "    print(\"\\nResumen de estudiantes:\")\n",
    "    for estudiante in estudiantes:\n",
    "        print(f\"\\nNombre: {estudiante['nombre']}\")\n",
    "        print(\"Notas por materia:\")\n",
    "        for asignatura, calificacion in estudiante['calificaciones'].items():\n",
    "            print(f\"  {asignatura}: {calificacion:.2f}\")\n",
    "        print(f\"Promedio: {estudiante['promedio']:.2f}\")\n",
    "        print(f\"Estado: {estudiante['estado']}\")"
   ]
  },
  {
   "cell_type": "markdown",
   "metadata": {},
   "source": [
    "### Utilizamos las funciones en un loop for para tenes el resumen segun la cantidad de estudiantes"
   ]
  },
  {
   "cell_type": "code",
   "execution_count": null,
   "metadata": {},
   "outputs": [],
   "source": [
    "\n",
    "numero_de_estudiantes = numero_de_estudiantes()\n",
    "numero_de_asignaturas = obtener_numero_asignaturas()\n",
    "asignaturas = obtener_nombres_asignaturas(numero_de_asignaturas)\n",
    "\n",
    "estudiantes = []\n",
    "\n",
    "for _ in range(numero_de_estudiantes):\n",
    "    nombre = obtener_nombre_estudiante()\n",
    "    calificaciones = obtener_calificaciones(asignaturas)\n",
    "    promedio = calcular_promedio(calificaciones)\n",
    "    estado = determinar_estado(promedio)\n",
    "    \n",
    "    estudiantes.append({\n",
    "        'nombre': nombre,\n",
    "        'calificaciones': calificaciones,\n",
    "        'promedio': promedio,\n",
    "        'estado': estado\n",
    "    })\n",
    "\n",
    "resumen_por_estudiante(estudiantes)"
   ]
  }
 ],
 "metadata": {
  "kernelspec": {
   "display_name": "mi_proyecto",
   "language": "python",
   "name": "python3"
  },
  "language_info": {
   "codemirror_mode": {
    "name": "ipython",
    "version": 3
   },
   "file_extension": ".py",
   "mimetype": "text/x-python",
   "name": "python",
   "nbconvert_exporter": "python",
   "pygments_lexer": "ipython3",
   "version": "3.12.6"
  }
 },
 "nbformat": 4,
 "nbformat_minor": 2
}
